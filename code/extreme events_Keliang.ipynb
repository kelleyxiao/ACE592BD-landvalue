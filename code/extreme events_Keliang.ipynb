{
 "cells": [
  {
   "cell_type": "markdown",
   "id": "079b2039",
   "metadata": {},
   "source": [
    "# ACE592 Project Spring22"
   ]
  },
  {
   "cell_type": "markdown",
   "id": "a569a2f7",
   "metadata": {},
   "source": [
    "### Import in US shapefile"
   ]
  },
  {
   "cell_type": "code",
   "execution_count": null,
   "id": "cf1c8327",
   "metadata": {},
   "outputs": [],
   "source": [
    "import numpy as np\n",
    "import matplotlib.pyplot as plt\n",
    "import pyproj\n",
    "import rasterio\n",
    "import rasterstats\n",
    "import rasterio.mask\n",
    "import pandas as pd\n",
    "import json\n",
    "from rasterio.mask import mask\n",
    "from rasterio.plot import show\n",
    "import matplotlib.colors as pltc\n",
    "import matplotlib.patches as mpatches\n",
    "from matplotlib.patches import Patch\n",
    "from matplotlib.lines import Line2D\n",
    "import matplotlib\n",
    "from rasterio.warp import calculate_default_transform, reproject, Resampling\n",
    "from rasterstats import zonal_stats\n"
   ]
  },
  {
   "cell_type": "code",
   "execution_count": null,
   "id": "0d2e980e",
   "metadata": {},
   "outputs": [],
   "source": [
    "data_dir = \"/Users/amazingkelley/Library/CloudStorage/Box-Box/BD 2022Spring HW/Homework 2/\""
   ]
  },
  {
   "cell_type": "code",
   "execution_count": null,
   "id": "013ab06a",
   "metadata": {},
   "outputs": [],
   "source": [
    "import geopandas"
   ]
  },
  {
   "cell_type": "code",
   "execution_count": null,
   "id": "3884387a",
   "metadata": {},
   "outputs": [],
   "source": [
    "counties = geopandas.read_file(data_dir+\"us_counties_2017.shp\")\n",
    "counties.to_crs(4326)"
   ]
  },
  {
   "cell_type": "code",
   "execution_count": null,
   "id": "58f47a0f",
   "metadata": {},
   "outputs": [],
   "source": [
    "df_counties = pd.DataFrame(counties)"
   ]
  },
  {
   "cell_type": "markdown",
   "id": "32a7b9dc",
   "metadata": {},
   "source": [
    "### Import in disaster data"
   ]
  },
  {
   "cell_type": "code",
   "execution_count": null,
   "id": "d38d08a6",
   "metadata": {},
   "outputs": [],
   "source": [
    "disasters = pd.read_excel(r\"/Users/amazingkelley/Downloads/disasters.xlsx\", converters={'fips':str,'county_fips':str, 'year':int, 'state_fips':str})"
   ]
  },
  {
   "cell_type": "code",
   "execution_count": null,
   "id": "31f79815",
   "metadata": {},
   "outputs": [],
   "source": [
    "df_disasters = pd.DataFrame(disasters)"
   ]
  },
  {
   "cell_type": "markdown",
   "id": "7b9abc2a",
   "metadata": {},
   "source": [
    "### Time variance"
   ]
  },
  {
   "cell_type": "code",
   "execution_count": null,
   "id": "a59e7795",
   "metadata": {},
   "outputs": [],
   "source": [
    "import plotly.express as px"
   ]
  },
  {
   "cell_type": "code",
   "execution_count": null,
   "id": "1961a78f",
   "metadata": {},
   "outputs": [],
   "source": [
    "df1 = df_disasters[['year','disaster_dt','category','disaster']].loc[df_disasters['category']=='top2'].drop_duplicates()\n",
    "df1 = df1.sort_values(['disaster','year']).reset_index()\n",
    "fig = px.line(df1, x='year', y='disaster_dt', color='disaster', markers=True)\n",
    "fig.update_xaxes(title_text=\"Year\")\n",
    "fig.update_yaxes(title_text=\"Extreme events\")\n",
    "fig.update_layout(height=700)\n",
    "fig.show()"
   ]
  },
  {
   "cell_type": "code",
   "execution_count": null,
   "id": "6d5e5a2b",
   "metadata": {},
   "outputs": [],
   "source": [
    "df2 = df_disasters[['year','disaster_dt','category','disaster']].loc[df_disasters['category']=='top10'].drop_duplicates()\n",
    "df2 = df2.sort_values(['disaster','year']).reset_index()\n",
    "fig = px.line(df2, x='year', y='disaster_dt', color='disaster', markers=True)\n",
    "fig.update_xaxes(title_text=\"Year\")\n",
    "fig.update_yaxes(title_text=\"Extreme events\")\n",
    "fig.update_layout(height=700)\n",
    "fig.show()"
   ]
  },
  {
   "cell_type": "code",
   "execution_count": null,
   "id": "7864f655",
   "metadata": {},
   "outputs": [],
   "source": [
    "df3 = df_disasters[['year','disaster_dt','category','disaster']].loc[df_disasters['category']=='top20'].drop_duplicates()\n",
    "df3 = df3.sort_values(['disaster','year']).reset_index()\n",
    "fig = px.line(df3, x='year', y='disaster_dt', color='disaster', markers=True)\n",
    "fig.show()"
   ]
  },
  {
   "cell_type": "code",
   "execution_count": null,
   "id": "d03c4d37",
   "metadata": {},
   "outputs": [],
   "source": [
    "df4 = df_disasters[['year','disaster_dt','category','disaster']].loc[df_disasters['category']=='top30'].drop_duplicates()\n",
    "df4 = df4.sort_values(['disaster','year']).reset_index()\n",
    "fig = px.line(df4, x='year', y='disaster_dt', color='disaster', markers=True)\n",
    "fig.show()"
   ]
  },
  {
   "cell_type": "code",
   "execution_count": null,
   "id": "2737f8c0",
   "metadata": {},
   "outputs": [],
   "source": [
    "df5 = df_disasters[['year','disaster_dt','category','disaster']].loc[df_disasters['category']=='last'].drop_duplicates()\n",
    "df5 = df5.sort_values(['disaster','year']).reset_index()\n",
    "fig = px.line(df5, x='year', y='disaster_dt', color='disaster', markers=True)\n",
    "fig.show()"
   ]
  },
  {
   "cell_type": "markdown",
   "id": "4724f91f",
   "metadata": {},
   "source": [
    "### Space distribution"
   ]
  },
  {
   "cell_type": "code",
   "execution_count": null,
   "id": "65fb77f6",
   "metadata": {},
   "outputs": [],
   "source": [
    "df_counties[\"state\"]=df_counties[\"STATEFP\"].astype(str) \n",
    "df_counties[\"county\"]=df_counties[\"COUNTYFP\"].astype(str) \n",
    "df_counties[\"fips\"]=df_counties[\"state\"]+df_counties[\"county\"]\n",
    "df_county = df_counties[[\"fips\",\"NAME\",\"geometry\",\"GEOID\"]]"
   ]
  },
  {
   "cell_type": "code",
   "execution_count": null,
   "id": "e5974be9",
   "metadata": {},
   "outputs": [],
   "source": [
    "from urllib.request import urlopen\n",
    "import json\n",
    "with urlopen('https://raw.githubusercontent.com/plotly/datasets/master/geojson-counties-fips.json') as response:\n",
    "    counties = json.load(response)"
   ]
  },
  {
   "cell_type": "code",
   "execution_count": null,
   "id": "0206d920",
   "metadata": {},
   "outputs": [],
   "source": [
    "Thunderstorm_Wind_pct = pd.read_excel(r\"/Users/amazingkelley/Downloads/pct1.xlsx\", converters={'fips':str})\n",
    "Thunderstorm_Wind = df_county.merge(Thunderstorm_Wind_pct,on=\"fips\", how=\"left\")\n",
    "fig = px.choropleth(Thunderstorm_Wind, geojson=counties, locations='fips', color='pct',\n",
    "                           color_continuous_scale=\"blues\",\n",
    "                           range_color=(1, 5),\n",
    "                           scope=\"usa\",\n",
    "                           labels={'pct':'Thunderstorm Wind'}\n",
    "                          )\n",
    "fig.update_layout(margin={\"r\":0,\"t\":0,\"l\":0,\"b\":0})\n",
    "fig.show()"
   ]
  },
  {
   "cell_type": "code",
   "execution_count": null,
   "id": "e3e95da7",
   "metadata": {},
   "outputs": [],
   "source": [
    "Hail_pct = pd.read_excel(r\"/Users/amazingkelley/Downloads/pct2.xlsx\", converters={'fips':str})\n",
    "Hail = df_county.merge(Hail_pct,on=\"fips\",how=\"outer\")\n",
    "fig = px.choropleth(Hail, geojson=counties, locations='fips', color='pct',\n",
    "                           color_continuous_scale=\"blues\",\n",
    "                           range_color=(-1, 2),\n",
    "                           scope=\"usa\",\n",
    "                           labels={'pct':'Hail'}\n",
    "                          )\n",
    "fig.update_layout(margin={\"r\":0,\"t\":0,\"l\":0,\"b\":0})\n",
    "fig.show()"
   ]
  },
  {
   "cell_type": "code",
   "execution_count": null,
   "id": "e7f42eca",
   "metadata": {},
   "outputs": [],
   "source": [
    "Flash_Flood_pct = pd.read_excel(r\"/Users/amazingkelley/Downloads/pct3.xlsx\", converters={'fips':str})\n",
    "Flash_Flood = df_county.merge(Flash_Flood_pct,on=\"fips\",how=\"outer\")\n",
    "fig = px.choropleth(Flash_Flood, geojson=counties, locations='fips', color='pct',\n",
    "                           color_continuous_scale=\"blues\",\n",
    "                           range_color=(-2, 5),\n",
    "                           scope=\"usa\",\n",
    "                           labels={'pct':'Percentage'}\n",
    "                          )\n",
    "fig.update_layout(margin={\"r\":0,\"t\":0,\"l\":0,\"b\":0})\n",
    "fig.show()"
   ]
  },
  {
   "cell_type": "code",
   "execution_count": null,
   "id": "9192f7c1",
   "metadata": {},
   "outputs": [],
   "source": [
    "Winter_Storm_pct = pd.read_excel(r\"/Users/amazingkelley/Downloads/pct4.xlsx\", converters={'fips':str})\n",
    "Winter_Storm = df_county.merge(Winter_Storm_pct,on=\"fips\",how=\"outer\")\n",
    "fig = px.choropleth(Winter_Storm, geojson=counties, locations='fips', color='pct',\n",
    "                           color_continuous_scale=\"blues\",\n",
    "                           range_color=(-2, 3),\n",
    "                           scope=\"usa\",\n",
    "                           labels={'pct':'Percentage Change of Winter Storm'}\n",
    "                          )\n",
    "fig.update_layout(margin={\"r\":0,\"t\":0,\"l\":0,\"b\":0})\n",
    "fig.show()"
   ]
  },
  {
   "cell_type": "code",
   "execution_count": null,
   "id": "6ae0b5d0",
   "metadata": {},
   "outputs": [],
   "source": [
    "Heavy_Snow_pct = pd.read_excel(r\"/Users/amazingkelley/Downloads/pct5.xlsx\", converters={'fips':str})\n",
    "Heavy_Snow = df_county.merge(Heavy_Snow_pct,on=\"fips\",how=\"outer\")\n",
    "fig = px.choropleth(Heavy_Snow, geojson=counties, locations='fips', color='pct',\n",
    "                           color_continuous_scale=\"blues\",\n",
    "                           range_color=(-2, 3),\n",
    "                           scope=\"usa\",\n",
    "                           labels={'pct':'Percentage Change of Heavy Snow'}\n",
    "                          )\n",
    "fig.update_layout(margin={\"r\":0,\"t\":0,\"l\":0,\"b\":0})\n",
    "fig.show()"
   ]
  },
  {
   "cell_type": "code",
   "execution_count": null,
   "id": "a3639e0b",
   "metadata": {
    "scrolled": true
   },
   "outputs": [],
   "source": [
    "disaster_pct = pd.read_excel(r\"/Users/amazingkelley/Downloads/disaster_discrete_pct.xlsx\", converters={'fips':str})\n",
    "disaster_all = df_county.merge(disaster_pct,on=\"fips\",how=\"outer\")\n",
    "fig = px.choropleth(disaster_all, geojson=counties, locations='fips', color='pct',\n",
    "                           color_continuous_scale=\"geyser\",\n",
    "                           range_color=(-1, 3.5),\n",
    "                           scope=\"usa\",\n",
    "                           )\n",
    "fig.update_layout(margin={\"r\":0,\"t\":0,\"l\":0,\"b\":0})\n",
    "fig.show()"
   ]
  },
  {
   "cell_type": "code",
   "execution_count": null,
   "id": "00181ca0",
   "metadata": {},
   "outputs": [],
   "source": [
    "disaster_year = pd.read_excel(r\"/Users/amazingkelley/Downloads/disaster_year.xlsx\", converters={'fips':str,'year':str})\n",
    "disaster_year = df_county.merge(disaster_year,on=\"fips\",how=\"outer\")"
   ]
  },
  {
   "cell_type": "code",
   "execution_count": null,
   "id": "c577e588",
   "metadata": {},
   "outputs": [],
   "source": [
    "disaster_year_1997 = disaster_year[disaster_year['year']=='1997']\n",
    "fig = px.choropleth(disaster_year_1997, geojson=counties, locations='fips', color='disaster_ct',\n",
    "                           color_continuous_scale=\"geyser\",\n",
    "                           range_color=(1, 35),\n",
    "                           scope=\"usa\",\n",
    "                           labels={'disaster_ct':'events'}\n",
    "                           )\n",
    "fig.update_layout(margin={\"r\":0,\"t\":0,\"l\":0,\"b\":0})\n",
    "fig.update_layout(title_text=\"1997\")\n",
    "fig.show()"
   ]
  },
  {
   "cell_type": "code",
   "execution_count": null,
   "id": "97772e78",
   "metadata": {},
   "outputs": [],
   "source": [
    "disaster_year_2002 = disaster_year[disaster_year['year']=='2002']\n",
    "fig = px.choropleth(disaster_year_2002, geojson=counties, locations='fips', color='disaster_ct',\n",
    "                           color_continuous_scale=\"geyser\",\n",
    "                           range_color=(1, 35),\n",
    "                           scope=\"usa\",\n",
    "                           labels={'disaster_ct':'events'}\n",
    "                           )\n",
    "fig.update_layout(margin={\"r\":0,\"t\":0,\"l\":0,\"b\":0})\n",
    "fig.update_layout(title_text=\"2002\")\n",
    "fig.show()"
   ]
  },
  {
   "cell_type": "code",
   "execution_count": null,
   "id": "12c53610",
   "metadata": {},
   "outputs": [],
   "source": [
    "disaster_year_2007 = disaster_year[disaster_year['year']=='2007']\n",
    "fig = px.choropleth(disaster_year_2007, geojson=counties, locations='fips', color='disaster_ct',\n",
    "                           color_continuous_scale=\"geyser\",\n",
    "                           range_color=(1, 35),\n",
    "                           scope=\"usa\",\n",
    "                           labels={'disaster_ct':'events'}\n",
    "                           )\n",
    "fig.update_layout(margin={\"r\":0,\"t\":0,\"l\":0,\"b\":0})\n",
    "fig.update_layout(title_text=\"2007\")\n",
    "fig.show()"
   ]
  },
  {
   "cell_type": "code",
   "execution_count": null,
   "id": "1ad39ee5",
   "metadata": {},
   "outputs": [],
   "source": [
    "disaster_year_2012 = disaster_year[disaster_year['year']=='2012']\n",
    "fig = px.choropleth(disaster_year_2012, geojson=counties, locations='fips', color='disaster_ct',\n",
    "                           color_continuous_scale=\"geyser\",\n",
    "                           range_color=(1, 35),\n",
    "                           scope=\"usa\",\n",
    "                           labels={'disaster_ct':'events'}\n",
    "                           )\n",
    "fig.update_layout(margin={\"r\":0,\"t\":0,\"l\":0,\"b\":0})\n",
    "fig.update_layout(title_text=\"2012\")\n",
    "fig.show()"
   ]
  },
  {
   "cell_type": "markdown",
   "id": "74b3f168",
   "metadata": {},
   "source": [
    "### Relation between disasters and land value"
   ]
  },
  {
   "cell_type": "code",
   "execution_count": null,
   "id": "abb3d1cc",
   "metadata": {},
   "outputs": [],
   "source": [
    "disaster_landvalue = pd.read_excel(r\"/Users/amazingkelley/Downloads/disaster_landvalue.xlsx\", converters={'fips':str})"
   ]
  },
  {
   "cell_type": "code",
   "execution_count": null,
   "id": "88ceba0b",
   "metadata": {},
   "outputs": [],
   "source": [
    "disaster_landvalue['log_disaster_ct'] = np.log(disaster_landvalue.disaster_ct)\n",
    "disaster_landvalue['log_landvalue'] = np.log(disaster_landvalue.landvalue)"
   ]
  },
  {
   "cell_type": "code",
   "execution_count": null,
   "id": "5c20dc6f",
   "metadata": {},
   "outputs": [],
   "source": [
    "fig = px.scatter(disaster_landvalue, x=\"log_disaster_ct\", y=\"log_landvalue\", trendline=\"ols\")\n",
    "fig.update_xaxes(title_text=\"Tital extreme events at county-year level\")\n",
    "fig.update_yaxes(title_text=\"Landvalue per acre\")\n",
    "fig.update_layout(title_text=\"Total extreme events\", height=700)\n",
    "fig.show()"
   ]
  },
  {
   "cell_type": "code",
   "execution_count": null,
   "id": "722442fa",
   "metadata": {},
   "outputs": [],
   "source": [
    "Thunder_landvalue = pd.read_excel(r\"/Users/amazingkelley/Downloads/Thunder_landvalue.xlsx\", converters={'fips':str})\n",
    "Thunder_landvalue['log_disaster_dct'] = np.log(Thunder_landvalue.disaster_dct)\n",
    "Thunder_landvalue['log_landvalue_acre'] = np.log(Thunder_landvalue.landvalue_acre)\n",
    "fig = px.scatter(Thunder_landvalue, x=\"log_disaster_dct\", y=\"log_landvalue_acre\", trendline=\"ols\")\n",
    "fig.update_xaxes(title_text=\"Thunderstorm Wind at county-year level\")\n",
    "fig.update_yaxes(title_text=\"Landvalue per acre\")\n",
    "fig.update_layout(title_text=\"Thunderstorm Wind\", height=700)\n",
    "fig.show()"
   ]
  },
  {
   "cell_type": "code",
   "execution_count": null,
   "id": "29b4730c",
   "metadata": {},
   "outputs": [],
   "source": [
    "Hail_landvalue = pd.read_excel(r\"/Users/amazingkelley/Downloads/Hail_landvalue.xlsx\", converters={'fips':str})\n",
    "Hail_landvalue['log_disaster_dct'] = np.log(Hail_landvalue.disaster_dct)\n",
    "Hail_landvalue['log_landvalue_acre'] = np.log(Hail_landvalue.landvalue_acre)\n",
    "fig = px.scatter(Hail_landvalue, x=\"log_disaster_dct\", y=\"log_landvalue_acre\", trendline=\"ols\")\n",
    "fig.update_xaxes(title_text=\"Hail at county-year level\")\n",
    "fig.update_yaxes(title_text=\"Landvalue per acre\")\n",
    "fig.update_layout(title_text=\"Hail\", height=700)\n",
    "fig.show()"
   ]
  },
  {
   "cell_type": "code",
   "execution_count": null,
   "id": "448f2cfd",
   "metadata": {},
   "outputs": [],
   "source": [
    "Flood_landvalue = pd.read_excel(r\"/Users/amazingkelley/Downloads/Flood_landvalue.xlsx\", converters={'fips':str})\n",
    "Flood_landvalue['log_disaster_dct'] = np.log(Flood_landvalue.disaster_dct)\n",
    "Flood_landvalue['log_landvalue_acre'] = np.log(Flood_landvalue.landvalue_acre)\n",
    "fig = px.scatter(Flood_landvalue, x=\"log_disaster_dct\", y=\"log_landvalue_acre\", trendline=\"ols\")\n",
    "fig.update_xaxes(title_text=\"Flash Flood at county-year level\")\n",
    "fig.update_yaxes(title_text=\"Landvalue per acre\")\n",
    "fig.update_layout(title_text=\"Flash Flood\", height=700)\n",
    "fig.show()\n"
   ]
  },
  {
   "cell_type": "code",
   "execution_count": null,
   "id": "5d580652",
   "metadata": {},
   "outputs": [],
   "source": [
    "Winter_Storm_landvalue = pd.read_excel(r\"/Users/amazingkelley/Downloads/Winter Storm_landvalue.xlsx\", converters={'fips':str})\n",
    "Winter_Storm_landvalue['log_disaster_dct'] = np.log(Winter_Storm_landvalue.disaster_dct)\n",
    "Winter_Storm_landvalue['log_landvalue_acre'] = np.log(Winter_Storm_landvalue.landvalue_acre)\n",
    "fig = px.scatter(Winter_Storm_landvalue, x=\"log_disaster_dct\", y=\"log_landvalue_acre\", trendline=\"ols\")\n",
    "fig.update_xaxes(title_text=\"Winter Storm at county-year level\")\n",
    "fig.update_yaxes(title_text=\"Landvalue per acre\")\n",
    "fig.update_layout(title_text=\"Winter Storm\", height=700)\n",
    "fig.show()\n",
    "\n"
   ]
  },
  {
   "cell_type": "code",
   "execution_count": null,
   "id": "22c5f77c",
   "metadata": {},
   "outputs": [],
   "source": [
    "Heavy_Snow_landvalue = pd.read_excel(r\"/Users/amazingkelley/Downloads/Heavy Snow_landvalue.xlsx\", converters={'fips':str})\n",
    "Heavy_Snow_landvalue['log_disaster_dct'] = np.log(Heavy_Snow_landvalue.disaster_dct)\n",
    "Heavy_Snow_landvalue['log_landvalue_acre'] = np.log(Heavy_Snow_landvalue.landvalue_acre)\n",
    "fig = px.scatter(Heavy_Snow_landvalue, x=\"log_disaster_dct\", y=\"log_landvalue_acre\", trendline=\"ols\")\n",
    "fig.show()"
   ]
  },
  {
   "cell_type": "code",
   "execution_count": null,
   "id": "636f34f1",
   "metadata": {},
   "outputs": [],
   "source": []
  },
  {
   "cell_type": "code",
   "execution_count": null,
   "id": "50f42bf2",
   "metadata": {},
   "outputs": [],
   "source": []
  },
  {
   "cell_type": "code",
   "execution_count": null,
   "id": "b8bba320",
   "metadata": {},
   "outputs": [],
   "source": []
  },
  {
   "cell_type": "code",
   "execution_count": null,
   "id": "e6554ef4",
   "metadata": {},
   "outputs": [],
   "source": []
  },
  {
   "cell_type": "code",
   "execution_count": null,
   "id": "c983aa64",
   "metadata": {},
   "outputs": [],
   "source": []
  }
 ],
 "metadata": {
  "kernelspec": {
   "display_name": "Python 3",
   "language": "python",
   "name": "python3"
  },
  "language_info": {
   "codemirror_mode": {
    "name": "ipython",
    "version": 3
   },
   "file_extension": ".py",
   "mimetype": "text/x-python",
   "name": "python",
   "nbconvert_exporter": "python",
   "pygments_lexer": "ipython3",
   "version": "3.8.8"
  }
 },
 "nbformat": 4,
 "nbformat_minor": 5
}
